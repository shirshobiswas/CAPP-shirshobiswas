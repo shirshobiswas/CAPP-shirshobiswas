{
 "cells": [
  {
   "cell_type": "code",
   "execution_count": 1,
   "metadata": {
    "collapsed": true
   },
   "outputs": [],
   "source": [
    "import pandas as pd\n",
    "import numpy as np\n",
    "import matplotlib.pyplot as plt\n",
    "import pylab\n",
    "import sys\n",
    "import random\n",
    "from __future__ import division\n",
    "from numpy import nan\n",
    "\n",
    "from sklearn.cross_validation import train_test_split\n",
    "from sklearn.preprocessing import StandardScaler\n",
    "import warnings\n",
    "warnings.filterwarnings(\"ignore\", category = DeprecationWarning)\n",
    "\n",
    "#Evaluation metrics is a separate pyhton file containing some useful functions for evaluation of different methods. One of the function is evaluating a binary classifier\n",
    "from EvaluationMetrics import bin_classif_eval\n",
    "\n",
    "#This function reads in a csv file as a dataframe\n",
    "def readcsvfile(file_name):\n",
    "    df =  pd.read_csv(file_name, header = 0)\n",
    "#We discussed in the previous TA session that NA values in some fields were coded numerically.\n",
    "#I replace these numerical values with 'nan'\n",
    "\n",
    "    df = df.replace({'NumberofTimes90DaysLate':{98:nan, 97:nan, 96:nan}, 'NumberofTime60-89DaysPastDueNotWorse':{98:nan, 97:nan, 96:nan}, 'NumberofTime30-59DaysPastDueNotWorse':{98:nan, 97:nan, 96:nan}, 'NumberofDependents':{20:nan}, 'age':{0:nan}})\n",
    "    return df\n",
    "\n",
    "\n",
    "#This function describes a datarame i.e. it prints column names, head and tail of the data,summary statistics, number of missing values in each column and the correlation matrix\n",
    "def summary_statistics(df):\n",
    "    pd.set_option('display.width', 18)\n",
    "    print 'Column Names:', \"\\n\", df.columns.values\n",
    "    print 'First Few Rows of Data:', \"\\n\", df.head()\n",
    "    print 'Last Few Rows of Data:', \"\\n\", df.tail()\n",
    "    print 'Summary Statistics:', \"\\n\", df.describe(include = 'all')\n",
    "    print 'Number of Missing Values:', \"\\n\", df.isnull().sum()\n",
    "    \n",
    "    for col_name in df:\n",
    "        print ('Data Type %s: %s' %(col_name, df[col_name].dtype))\n",
    "        \n",
    "    print 'Correlation Matrix :', \"\\n\", df.corr().unstack()\n",
    "    \n",
    "    \n",
    "    \n",
    "    \n",
    "def plot_histogram(df, hist_var):\n",
    "    fig = df[hist_var].hist()\n",
    "    fig.set_title('Histogram for ' + hist_var)\n",
    "    plt.draw()\n",
    "    plt.savefig(hist_var)\n",
    "    plt.close()\n",
    "\n",
    "\n",
    "def plot_bar(df, bar_var):\n",
    "    fig =df.groupby(bar_var).size().plot(kind='bar')\n",
    "    fig.set_xlabel(bar_var) #defines the x axis label\n",
    "    fig.set_ylabel('Number of Observations') #defines y axis label\n",
    "    fig.set_title(bar_var+' Distribution') #defines graph title\n",
    "    plt.draw()\n",
    "    plt.savefig(bar_var)\n",
    "    plt.close('all')\n",
    "    \n",
    "histogram_variables = ['serious_dlqin2yrs','revolving_utilization_of_unsecured_lines', 'age', 'number_of_time30-59_days_past_due_not_worse', 'debt_ratio', 'monthly_income', 'number_of_open_credit_lines_and_loans', 'number_of_times90_days_late', 'number_real_estate_loans_or_lines', 'number_of_time60-89_days_past_due_not_worse', 'number_of_dependents']\n",
    "\n",
    "\n",
    "\n",
    "\n",
    "\n",
    "bar_variables = ['serious_dlqin2yrs']\n",
    "\n",
    "\n",
    "\n",
    "\n",
    "\n",
    "\n",
    "\n",
    "\n",
    "#This function prints histograms for each column of a data frame\n",
    "def data_histogram(df):\n",
    "    df.hist()\n",
    "    plt.savefig('histograms.png')\n",
    "    \n",
    "#This function plots grouped columns with mean of the group\n",
    "def plot_by_group_mean(df,columns, group_by_col):\n",
    "    df[columns].groupby(group_by_col).mean().plot()\n",
    "    file_name = 'plot_by_' + group_by_col + '.png'\n",
    "    plt.savefig(file_name)\n",
    "    \n",
    "\n",
    "#This function converts a categorical variable in a data frame into binary dummies and then drops the original categorical variable\n",
    "def categorical_to_binary_dummies(df,Category):\n",
    "    dummies = pd.get_dummies(df['Category'], Category, drop_first = True)\n",
    "    df = df.join(dummies)\n",
    "    return df\n",
    "    \n",
    "#This function takes a dataframe and a column name and discretizes a continuous variable into bins\n",
    "def discretize_bins_values(df,col_name, bins, verbose = False):\n",
    "    new_col = 'bins_' + str(col_name)\n",
    "    df[new_col] = pd.cut(df[col_name], bins = bins, include_lowest = True, labels = False)\n",
    "    \n",
    "    if verbose:\n",
    "        print pd.value_counts(data[new_col])\n",
    "        \n",
    "    return new_col\n",
    "\n",
    "#This function takes a dataframe and a column name and discretizes a continuous variable into  bins based on quantiles\n",
    "def discretize_bins_quantiles(df,col_name,number_of_bins, verbose = False):\n",
    "    new_col = 'bins_' + str(col_name)\n",
    "    df[new_col] = pd.qcut(df[col_name],number_of_bins, labels = False)\n",
    "    \n",
    "    if verbose:\n",
    "        print pd.value_counts(data[new_col])\n",
    "        \n",
    "    return new_col\n",
    "\n",
    "\n",
    "#This function returns the log of a column. useful to get log income\n",
    "def log_column(df,col_name):\n",
    "    log_col = 'log_' + str(col_name)\n",
    "    df[log_col] = df[col_name].apply(lambda x: np.log(x+1))\n",
    "    return log_col\n",
    "#This function plots the histogram of a log variable\n",
    "\n",
    "def plot_log(df,var):\n",
    "    lb = 0\n",
    "    ub = 15\n",
    "    increment = 0.5\n",
    "    plt.gca().set_xscale('log')\n",
    "    fig = df[var].hist(bins = np.exp(np.arrange(lb,ub,increment)))\n",
    "    fig.set_xlabel('log'+var)\n",
    "    plt.savefig('log'+var)\n",
    "    plt.close()\n",
    "    \n",
    "\n",
    "##Imputing Missing values in Training Data Set and Filling in Missing values in testing dataset with stored values in Testing Dataset\n",
    "\n",
    "#This function fills the missing values in a column fn a datafraframe with mean, median or mode\n",
    "\n",
    "def impute_missing_values(df,var,method):\n",
    "   \n",
    "        if method == 'mean':\n",
    "               mean = df[var].mean()\n",
    "               return mean\n",
    "\n",
    "        elif method == 'median':\n",
    "               median = df[var].median()\n",
    "               return median\n",
    "\n",
    "        elif method == 'mode':\n",
    "               mode = df[var].mode[0]\n",
    "               return mode\n",
    "\n",
    "\n",
    "#This function fills the missing values in a column fn a datafraframe with a specified value\n",
    "\n",
    "def replace_missing_values(df,var,value):\n",
    "         df[var] = df[var].fillna(value)\n",
    "         return df\n",
    "        \n",
    "        \n"
   ]
  },
  {
   "cell_type": "code",
   "execution_count": 2,
   "metadata": {
    "collapsed": true
   },
   "outputs": [],
   "source": [
    "df = readcsvfile('cs-training.csv')"
   ]
  },
  {
   "cell_type": "code",
   "execution_count": 3,
   "metadata": {
    "collapsed": true
   },
   "outputs": [],
   "source": [
    "fig = df.groupby(['SeriousDlqin2yrs']).size().plot(kind = 'bar')\n",
    "plt.savefig('SeriousDlqin2yrs.png')"
   ]
  },
  {
   "cell_type": "code",
   "execution_count": 4,
   "metadata": {
    "collapsed": true
   },
   "outputs": [],
   "source": [
    "plt.close()\n"
   ]
  },
  {
   "cell_type": "code",
   "execution_count": 5,
   "metadata": {
    "collapsed": true
   },
   "outputs": [],
   "source": [
    "fig = df['age'].hist()\n",
    "plt.savefig('age_hist')\n",
    "fig.set_title('Age Histogram')\n",
    "plt.savefig('age_hist')\n",
    "plt.close()"
   ]
  },
  {
   "cell_type": "code",
   "execution_count": 6,
   "metadata": {
    "collapsed": true
   },
   "outputs": [],
   "source": [
    "logincome = np.log1p(df['MonthlyIncome'])\n",
    "fig = logincome.hist()\n",
    "fig.set_title('Log Monthly Income Histogram')\n",
    "plt.savefig('log_income_hist')\n",
    "plt.close()"
   ]
  },
  {
   "cell_type": "code",
   "execution_count": 7,
   "metadata": {
    "collapsed": true
   },
   "outputs": [],
   "source": [
    "from scipy.stats.mstats import mquantiles"
   ]
  },
  {
   "cell_type": "code",
   "execution_count": 8,
   "metadata": {
    "collapsed": false
   },
   "outputs": [
    {
     "data": {
      "text/plain": [
       "array([  0.00000000e+00,   4.37313938e-02,   1.52614173e-01,\n",
       "         2.38190475e-01,   3.20751418e-01,   4.18120444e-01,\n",
       "         5.69940499e-01,   1.21664741e+00,   1.03300000e+03,\n",
       "         3.29664000e+05])"
      ]
     },
     "execution_count": 8,
     "metadata": {},
     "output_type": "execute_result"
    }
   ],
   "source": [
    "mquantiles(df.DebtRatio,np.linspace(0,1,10))"
   ]
  },
  {
   "cell_type": "code",
   "execution_count": 9,
   "metadata": {
    "collapsed": true
   },
   "outputs": [],
   "source": [
    "fig = np.log1p(df[df.DebtRatio>0].DebtRatio).hist(bins=50)\n",
    "fig.set_title('Debt Ratio greater than 0 Histogram')\n",
    "plt.savefig('debt_ratio_hist_2')\n",
    "plt.close()"
   ]
  },
  {
   "cell_type": "code",
   "execution_count": 10,
   "metadata": {
    "collapsed": false
   },
   "outputs": [
    {
     "name": "stderr",
     "output_type": "stream",
     "text": [
      "/usr/local/lib/python2.7/dist-packages/matplotlib/collections.py:590: FutureWarning: elementwise comparison failed; returning scalar instead, but in the future will perform elementwise comparison\n",
      "  if self._edgecolors == str('face'):\n"
     ]
    }
   ],
   "source": [
    "fig = plt.scatter(df.MonthlyIncome, df.DebtRatio)\n",
    "plt.savefig('income_debt_scatter')\n",
    "plt.close()"
   ]
  },
  {
   "cell_type": "code",
   "execution_count": 11,
   "metadata": {
    "collapsed": true
   },
   "outputs": [],
   "source": [
    "value = impute_missing_values(df, ['MonthlyIncome'], 'median')\n",
    "df = replace_missing_values(df,['MonthlyIncome'], value)"
   ]
  },
  {
   "cell_type": "code",
   "execution_count": 12,
   "metadata": {
    "collapsed": true
   },
   "outputs": [],
   "source": [
    "value = impute_missing_values(df, ['NumberOfDependents'], 'median')\n",
    "df = replace_missing_values(df,['NumberOfDependents'], value)"
   ]
  },
  {
   "cell_type": "code",
   "execution_count": 13,
   "metadata": {
    "collapsed": true
   },
   "outputs": [],
   "source": [
    "value = impute_missing_values(df, ['age'], 'mean')\n",
    "df = replace_missing_values(df,['age'], value)"
   ]
  },
  {
   "cell_type": "code",
   "execution_count": 14,
   "metadata": {
    "collapsed": true
   },
   "outputs": [],
   "source": [
    "df.to_csv('training_imputed.csv')"
   ]
  },
  {
   "cell_type": "code",
   "execution_count": null,
   "metadata": {
    "collapsed": true
   },
   "outputs": [],
   "source": []
  }
 ],
 "metadata": {
  "kernelspec": {
   "display_name": "Python 2",
   "language": "python",
   "name": "python2"
  },
  "language_info": {
   "codemirror_mode": {
    "name": "ipython",
    "version": 2
   },
   "file_extension": ".py",
   "mimetype": "text/x-python",
   "name": "python",
   "nbconvert_exporter": "python",
   "pygments_lexer": "ipython2",
   "version": "2.7.3"
  }
 },
 "nbformat": 4,
 "nbformat_minor": 0
}
